{
 "cells": [
  {
   "cell_type": "code",
   "execution_count": 7,
   "metadata": {},
   "outputs": [
    {
     "data": {
      "text/plain": [
       "True"
      ]
     },
     "execution_count": 7,
     "metadata": {},
     "output_type": "execute_result"
    }
   ],
   "source": [
    "import os\n",
    "import pandas as pd\n",
    "import requests\n",
    "from dotenv import load_dotenv #pip3 install python-dotenv\n",
    "\n",
    "# load secrets\n",
    "load_dotenv()\n",
    "\n",
    "sn_instance_url = os.getenv(\"sn_instance_url\")\n",
    "username = os.getenv(\"username\") \n",
    "password = os.getenv(\"password\")"
   ]
  },
  {
   "cell_type": "code",
   "execution_count": 9,
   "metadata": {},
   "outputs": [
    {
     "name": "stdout",
     "output_type": "stream",
     "text": [
      "Error fetching change model: 401\n"
     ]
    },
    {
     "ename": "NameError",
     "evalue": "name 'model_data' is not defined",
     "output_type": "error",
     "traceback": [
      "\u001b[0;31m---------------------------------------------------------------------------\u001b[0m",
      "\u001b[0;31mNameError\u001b[0m                                 Traceback (most recent call last)",
      "Cell \u001b[0;32mIn[9], line 16\u001b[0m\n\u001b[1;32m     13\u001b[0m     \u001b[39mprint\u001b[39m(\u001b[39mf\u001b[39m\u001b[39m\"\u001b[39m\u001b[39mError fetching change model: \u001b[39m\u001b[39m{\u001b[39;00mresponse_model\u001b[39m.\u001b[39mstatus_code\u001b[39m}\u001b[39;00m\u001b[39m\"\u001b[39m)\n\u001b[1;32m     15\u001b[0m \u001b[39m# Convert to pandas dataframe\u001b[39;00m\n\u001b[0;32m---> 16\u001b[0m model_df \u001b[39m=\u001b[39m pd\u001b[39m.\u001b[39mDataFrame(model_data)\n\u001b[1;32m     18\u001b[0m \u001b[39m# Send request for model states\u001b[39;00m\n\u001b[1;32m     19\u001b[0m response_states \u001b[39m=\u001b[39m requests\u001b[39m.\u001b[39mget(model_states_endpoint, auth\u001b[39m=\u001b[39m(username, password), headers\u001b[39m=\u001b[39mheaders)\n",
      "\u001b[0;31mNameError\u001b[0m: name 'model_data' is not defined"
     ]
    }
   ],
   "source": [
    "# Endpoint for the change model (Normal change model)\n",
    "chg_model_endpoint = f\"{sn_instance_url}/api/now/table/chg_model?sysparm_query=name=Normal\"\n",
    "model_states_endpoint = f\"{sn_instance_url}/api/now/table/sttrm_state?sysparm_query=model.sys_id=<sys_id_of_normal_model>\"\n",
    "\n",
    "# Headers for the request\n",
    "headers = {'Content-Type': 'application/json', 'Accept': 'application/json'}\n",
    "\n",
    "# Send request for change model\n",
    "response_model = requests.get(chg_model_endpoint, auth=(username, password), headers=headers)\n",
    "if response_model.status_code == 200:\n",
    "    model_data = response_model.json()['result']\n",
    "else:\n",
    "    print(f\"Error fetching change model: {response_model.status_code}\")\n",
    "\n",
    "# Convert to pandas dataframe\n",
    "model_df = pd.DataFrame(model_data)\n",
    "\n",
    "# Send request for model states\n",
    "response_states = requests.get(model_states_endpoint, auth=(username, password), headers=headers)\n",
    "if response_states.status_code == 200:\n",
    "    states_data = response_states.json()['result']\n",
    "else:\n",
    "    print(f\"Error fetching model states: {response_states.status_code}\")\n",
    "\n",
    "# Convert to pandas dataframe\n",
    "states_df = pd.DataFrame(states_data)\n",
    "\n",
    "print(model_df)\n",
    "print(states_df)"
   ]
  }
 ],
 "metadata": {
  "kernelspec": {
   "display_name": "ndt_venv",
   "language": "python",
   "name": "python3"
  },
  "language_info": {
   "codemirror_mode": {
    "name": "ipython",
    "version": 3
   },
   "file_extension": ".py",
   "mimetype": "text/x-python",
   "name": "python",
   "nbconvert_exporter": "python",
   "pygments_lexer": "ipython3",
   "version": "3.11.1"
  },
  "orig_nbformat": 4
 },
 "nbformat": 4,
 "nbformat_minor": 2
}
