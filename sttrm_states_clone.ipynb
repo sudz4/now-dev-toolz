{
 "cells": [
  {
   "cell_type": "code",
   "execution_count": 3,
   "metadata": {},
   "outputs": [],
   "source": [
    "import os\n",
    "import pandas as pd\n",
    "import requests\n",
    "from dotenv import load_dotenv #pip3 install python-dotenv\n",
    "\n",
    "# load secrets\n",
    "load_dotenv()\n",
    "\n",
    "sn_instance_url = os.getenv(\"sn_instance_url\")\n",
    "username = os.getenv(\"username\") \n",
    "password = os.getenv(\"password\")"
   ]
  },
  {
   "cell_type": "code",
   "execution_count": 4,
   "metadata": {},
   "outputs": [
    {
     "name": "stdout",
     "output_type": "stream",
     "text": [
      "Empty DataFrame\n",
      "Columns: []\n",
      "Index: []\n",
      "Empty DataFrame\n",
      "Columns: []\n",
      "Index: []\n"
     ]
    }
   ],
   "source": [
    "# Endpoint for the change model (Normal change model)\n",
    "chg_model_endpoint = f\"{sn_instance_url}/api/now/table/chg_model?sysparm_query=name=Normal\"\n",
    "model_states_endpoint = f\"{sn_instance_url}/api/now/table/sttrm_state?sysparm_query=model.sys_id=<sys_id_of_normal_model>\"\n",
    "\n",
    "# Headers for the request\n",
    "headers = {'Content-Type': 'application/json', 'Accept': 'application/json'}\n",
    "\n",
    "# Send request for change model\n",
    "response_model = requests.get(chg_model_endpoint, auth=(username, password), headers=headers)\n",
    "if response_model.status_code == 200:\n",
    "    model_data = response_model.json()['result']\n",
    "else:\n",
    "    print(f\"Error fetching change model: {response_model.status_code}\")\n",
    "\n",
    "# Convert to pandas dataframe\n",
    "model_df = pd.DataFrame(model_data)\n",
    "\n",
    "# Send request for model states\n",
    "response_states = requests.get(model_states_endpoint, auth=(username, password), headers=headers)\n",
    "if response_states.status_code == 200:\n",
    "    states_data = response_states.json()['result']\n",
    "else:\n",
    "    print(f\"Error fetching model states: {response_states.status_code}\")\n",
    "\n",
    "# Convert to pandas dataframe\n",
    "states_df = pd.DataFrame(states_data)\n",
    "\n",
    "print(model_df)\n",
    "print(states_df)"
   ]
  },
  {
   "cell_type": "code",
   "execution_count": 5,
   "metadata": {},
   "outputs": [
    {
     "data": {
      "text/html": [
       "<div>\n",
       "<style scoped>\n",
       "    .dataframe tbody tr th:only-of-type {\n",
       "        vertical-align: middle;\n",
       "    }\n",
       "\n",
       "    .dataframe tbody tr th {\n",
       "        vertical-align: top;\n",
       "    }\n",
       "\n",
       "    .dataframe thead th {\n",
       "        text-align: right;\n",
       "    }\n",
       "</style>\n",
       "<table border=\"1\" class=\"dataframe\">\n",
       "  <thead>\n",
       "    <tr style=\"text-align: right;\">\n",
       "      <th></th>\n",
       "    </tr>\n",
       "  </thead>\n",
       "  <tbody>\n",
       "  </tbody>\n",
       "</table>\n",
       "</div>"
      ],
      "text/plain": [
       "Empty DataFrame\n",
       "Columns: []\n",
       "Index: []"
      ]
     },
     "execution_count": 5,
     "metadata": {},
     "output_type": "execute_result"
    }
   ],
   "source": [
    "# debug"
   ]
  },
  {
   "cell_type": "code",
   "execution_count": 6,
   "metadata": {},
   "outputs": [
    {
     "name": "stdout",
     "output_type": "stream",
     "text": [
      "{'result': []}\n",
      "{'result': []}\n"
     ]
    }
   ],
   "source": [
    "print(response_model.json())\n",
    "print(response_states.json())\n"
   ]
  }
 ],
 "metadata": {
  "kernelspec": {
   "display_name": "ndt_venv",
   "language": "python",
   "name": "python3"
  },
  "language_info": {
   "codemirror_mode": {
    "name": "ipython",
    "version": 3
   },
   "file_extension": ".py",
   "mimetype": "text/x-python",
   "name": "python",
   "nbconvert_exporter": "python",
   "pygments_lexer": "ipython3",
   "version": "3.11.1"
  },
  "orig_nbformat": 4
 },
 "nbformat": 4,
 "nbformat_minor": 2
}
